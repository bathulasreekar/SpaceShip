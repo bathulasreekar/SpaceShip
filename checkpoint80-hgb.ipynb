{
 "cells": [
  {
   "cell_type": "markdown",
   "id": "edd4cc1a",
   "metadata": {
    "papermill": {
     "duration": 0.014493,
     "end_time": "2023-03-09T02:39:05.458011",
     "exception": false,
     "start_time": "2023-03-09T02:39:05.443518",
     "status": "completed"
    },
    "tags": []
   },
   "source": [
    "<hr style=\"height:.9px;border:none;color:#333;background-color:#333;\" />\n",
    "<hr style=\"height:.9px;border:none;color:#333;background-color:#333;\" />\n",
    "\n",
    "<br><h1>Building a Classification Model in Kaggle</h1>\n",
    "Sreekar<br>\n",
    "Hult International Business School<br><br><br>\n",
    "\n",
    "<hr style=\"height:.9px;border:none;color:#333;background-color:#333;\" />\n",
    "<hr style=\"height:.9px;border:none;color:#333;background-color:#333;\" />\n"
   ]
  },
  {
   "cell_type": "markdown",
   "id": "6bdf663c",
   "metadata": {
    "papermill": {
     "duration": 0.013661,
     "end_time": "2023-03-09T02:39:05.486413",
     "exception": false,
     "start_time": "2023-03-09T02:39:05.472752",
     "status": "completed"
    },
    "tags": []
   },
   "source": [
    "Below is a starter code that comes with Jupyter Notebook."
   ]
  },
  {
   "cell_type": "code",
   "execution_count": 1,
   "id": "c757d787",
   "metadata": {
    "_cell_guid": "b1076dfc-b9ad-4769-8c92-a6c4dae69d19",
    "_uuid": "8f2839f25d086af736a60e9eeb907d3b93b6e0e5",
    "execution": {
     "iopub.execute_input": "2023-03-09T02:39:05.515618Z",
     "iopub.status.busy": "2023-03-09T02:39:05.515224Z",
     "iopub.status.idle": "2023-03-09T02:39:05.532380Z",
     "shell.execute_reply": "2023-03-09T02:39:05.530882Z"
    },
    "papermill": {
     "duration": 0.035676,
     "end_time": "2023-03-09T02:39:05.535325",
     "exception": false,
     "start_time": "2023-03-09T02:39:05.499649",
     "status": "completed"
    },
    "tags": []
   },
   "outputs": [
    {
     "name": "stdout",
     "output_type": "stream",
     "text": [
      "/kaggle/input/spaceship-titanic/sample_submission.csv\n",
      "/kaggle/input/spaceship-titanic/train.csv\n",
      "/kaggle/input/spaceship-titanic/test.csv\n"
     ]
    }
   ],
   "source": [
    "# This Python 3 environment comes with many helpful analytics libraries installed\n",
    "# It is defined by the kaggle/python Docker image: https://github.com/kaggle/docker-python\n",
    "# For example, here's several helpful packages to load\n",
    "\n",
    "import numpy as np # linear algebra\n",
    "import pandas as pd # data processing, CSV file I/O (e.g. pd.read_csv)\n",
    "\n",
    "# Input data files are available in the read-only \"../input/\" directory\n",
    "# For example, running this (by clicking run or pressing Shift+Enter) will list all files under the input directory\n",
    "\n",
    "import os\n",
    "for dirname, _, filenames in os.walk('/kaggle/input'):\n",
    "    for filename in filenames:\n",
    "        print(os.path.join(dirname, filename))\n",
    "\n",
    "# You can write up to 20GB to the current directory (/kaggle/working/) that gets preserved as output when you create a version using \"Save & Run All\" \n",
    "# You can also write temporary files to /kaggle/temp/, but they won't be saved outside of the current session"
   ]
  },
  {
   "cell_type": "markdown",
   "id": "8e38a852",
   "metadata": {
    "papermill": {
     "duration": 0.014215,
     "end_time": "2023-03-09T02:39:05.564989",
     "exception": false,
     "start_time": "2023-03-09T02:39:05.550774",
     "status": "completed"
    },
    "tags": []
   },
   "source": [
    "<hr style=\"height:.9px;border:none;color:#333;background-color:#333;\" /><br><br>\n",
    "You will need to import any additional libraries. It's also a good idea to get rid of the cell above once you're used to Jupyter Notebook in Kaggle.<br>"
   ]
  },
  {
   "cell_type": "code",
   "execution_count": 2,
   "id": "8dfc8b10",
   "metadata": {
    "execution": {
     "iopub.execute_input": "2023-03-09T02:39:05.595573Z",
     "iopub.status.busy": "2023-03-09T02:39:05.595125Z",
     "iopub.status.idle": "2023-03-09T02:39:07.173665Z",
     "shell.execute_reply": "2023-03-09T02:39:07.172630Z"
    },
    "papermill": {
     "duration": 1.598247,
     "end_time": "2023-03-09T02:39:07.177285",
     "exception": false,
     "start_time": "2023-03-09T02:39:05.579038",
     "status": "completed"
    },
    "tags": []
   },
   "outputs": [],
   "source": [
    "# modeling library\n",
    "import sklearn.linear_model                          # linear modeling in scikit-learn\n",
    "\n",
    "# other model building tools\n",
    "from sklearn.model_selection import train_test_split # train-test split\n",
    "from sklearn.metrics import roc_auc_score            # auc score"
   ]
  },
  {
   "cell_type": "markdown",
   "id": "792270ab",
   "metadata": {
    "papermill": {
     "duration": 0.013653,
     "end_time": "2023-03-09T02:39:07.204658",
     "exception": false,
     "start_time": "2023-03-09T02:39:07.191005",
     "status": "completed"
    },
    "tags": []
   },
   "source": [
    "<hr style=\"height:.9px;border:none;color:#333;background-color:#333;\" /><br><br>\n",
    "Make sure to tell Python the path to your training data. If you have no idea what a path is, look to the left and find and hover over <em>Data&nbsp;>&nbsp;Input&nbsp;>&nbsp;spaceship-titanic</em>. A button should appear allowing you to copy the path to your clipboard.<br>"
   ]
  },
  {
   "cell_type": "code",
   "execution_count": 3,
   "id": "deb4bdc1",
   "metadata": {
    "execution": {
     "iopub.execute_input": "2023-03-09T02:39:07.234121Z",
     "iopub.status.busy": "2023-03-09T02:39:07.233652Z",
     "iopub.status.idle": "2023-03-09T02:39:07.333388Z",
     "shell.execute_reply": "2023-03-09T02:39:07.331676Z"
    },
    "papermill": {
     "duration": 0.118416,
     "end_time": "2023-03-09T02:39:07.336507",
     "exception": false,
     "start_time": "2023-03-09T02:39:07.218091",
     "status": "completed"
    },
    "tags": []
   },
   "outputs": [
    {
     "name": "stdout",
     "output_type": "stream",
     "text": [
      "<class 'pandas.core.frame.DataFrame'>\n",
      "RangeIndex: 8693 entries, 0 to 8692\n",
      "Data columns (total 14 columns):\n",
      " #   Column        Non-Null Count  Dtype  \n",
      "---  ------        --------------  -----  \n",
      " 0   PassengerId   8693 non-null   object \n",
      " 1   HomePlanet    8492 non-null   object \n",
      " 2   CryoSleep     8476 non-null   object \n",
      " 3   Cabin         8494 non-null   object \n",
      " 4   Destination   8511 non-null   object \n",
      " 5   Age           8514 non-null   float64\n",
      " 6   VIP           8490 non-null   object \n",
      " 7   RoomService   8512 non-null   float64\n",
      " 8   FoodCourt     8510 non-null   float64\n",
      " 9   ShoppingMall  8485 non-null   float64\n",
      " 10  Spa           8510 non-null   float64\n",
      " 11  VRDeck        8505 non-null   float64\n",
      " 12  Name          8493 non-null   object \n",
      " 13  Transported   8693 non-null   bool   \n",
      "dtypes: bool(1), float64(6), object(7)\n",
      "memory usage: 891.5+ KB\n"
     ]
    }
   ],
   "source": [
    "# importing the training dataset\n",
    "path             = \"/kaggle/input/spaceship-titanic/\" \n",
    "training_dataset = \"train.csv\"\n",
    "\n",
    "\n",
    "# reading in the .csv file with pandas\n",
    "data_train    = pd.read_csv(filepath_or_buffer = path + training_dataset)\n",
    "\n",
    "\n",
    "# checking basic info about the dataset\n",
    "data_train.info(verbose = True)"
   ]
  },
  {
   "cell_type": "code",
   "execution_count": 4,
   "id": "13cef9ef",
   "metadata": {
    "execution": {
     "iopub.execute_input": "2023-03-09T02:39:07.366635Z",
     "iopub.status.busy": "2023-03-09T02:39:07.366208Z",
     "iopub.status.idle": "2023-03-09T02:39:07.432299Z",
     "shell.execute_reply": "2023-03-09T02:39:07.430906Z"
    },
    "papermill": {
     "duration": 0.084631,
     "end_time": "2023-03-09T02:39:07.435192",
     "exception": false,
     "start_time": "2023-03-09T02:39:07.350561",
     "status": "completed"
    },
    "tags": []
   },
   "outputs": [
    {
     "data": {
      "text/html": [
       "<div>\n",
       "<style scoped>\n",
       "    .dataframe tbody tr th:only-of-type {\n",
       "        vertical-align: middle;\n",
       "    }\n",
       "\n",
       "    .dataframe tbody tr th {\n",
       "        vertical-align: top;\n",
       "    }\n",
       "\n",
       "    .dataframe thead th {\n",
       "        text-align: right;\n",
       "    }\n",
       "</style>\n",
       "<table border=\"1\" class=\"dataframe\">\n",
       "  <thead>\n",
       "    <tr style=\"text-align: right;\">\n",
       "      <th></th>\n",
       "      <th>PassengerId</th>\n",
       "      <th>HomePlanet</th>\n",
       "      <th>CryoSleep</th>\n",
       "      <th>Destination</th>\n",
       "      <th>Age</th>\n",
       "      <th>VIP</th>\n",
       "      <th>RoomService</th>\n",
       "      <th>FoodCourt</th>\n",
       "      <th>ShoppingMall</th>\n",
       "      <th>Spa</th>\n",
       "      <th>VRDeck</th>\n",
       "      <th>Transported</th>\n",
       "      <th>Deck</th>\n",
       "      <th>Num</th>\n",
       "      <th>Side</th>\n",
       "    </tr>\n",
       "  </thead>\n",
       "  <tbody>\n",
       "    <tr>\n",
       "      <th>0</th>\n",
       "      <td>0001_01</td>\n",
       "      <td>Europa</td>\n",
       "      <td>False</td>\n",
       "      <td>TRAPPIST-1e</td>\n",
       "      <td>39.0</td>\n",
       "      <td>False</td>\n",
       "      <td>0.0</td>\n",
       "      <td>0.0</td>\n",
       "      <td>0.0</td>\n",
       "      <td>0.0</td>\n",
       "      <td>0.0</td>\n",
       "      <td>False</td>\n",
       "      <td>B</td>\n",
       "      <td>0</td>\n",
       "      <td>P</td>\n",
       "    </tr>\n",
       "    <tr>\n",
       "      <th>1</th>\n",
       "      <td>0002_01</td>\n",
       "      <td>Earth</td>\n",
       "      <td>False</td>\n",
       "      <td>TRAPPIST-1e</td>\n",
       "      <td>24.0</td>\n",
       "      <td>False</td>\n",
       "      <td>109.0</td>\n",
       "      <td>9.0</td>\n",
       "      <td>25.0</td>\n",
       "      <td>549.0</td>\n",
       "      <td>44.0</td>\n",
       "      <td>True</td>\n",
       "      <td>F</td>\n",
       "      <td>0</td>\n",
       "      <td>S</td>\n",
       "    </tr>\n",
       "  </tbody>\n",
       "</table>\n",
       "</div>"
      ],
      "text/plain": [
       "  PassengerId HomePlanet CryoSleep  Destination   Age    VIP  RoomService  \\\n",
       "0     0001_01     Europa     False  TRAPPIST-1e  39.0  False          0.0   \n",
       "1     0002_01      Earth     False  TRAPPIST-1e  24.0  False        109.0   \n",
       "\n",
       "   FoodCourt  ShoppingMall    Spa  VRDeck  Transported Deck Num Side  \n",
       "0        0.0           0.0    0.0     0.0        False    B   0    P  \n",
       "1        9.0          25.0  549.0    44.0         True    F   0    S  "
      ]
     },
     "execution_count": 4,
     "metadata": {},
     "output_type": "execute_result"
    }
   ],
   "source": [
    "import pandas as pd\n",
    "\n",
    "\n",
    "\n",
    "# split the \"Cabin\" column into three separate columns\n",
    "data_train[['Deck', 'Num', 'Side']] = data_train['Cabin'].str.split('/', expand=True)\n",
    "\n",
    "# remove the original \"Cabin\" column\n",
    "data_train = data_train.drop(columns=['Cabin'])\n",
    "#data_train = data_train.drop(columns=['PassengerId'])\n",
    "data_train = data_train.drop(columns=['Name'])\n",
    "\n",
    "\n",
    "# print the resulting dataframe\n",
    "data_train.head(2)"
   ]
  },
  {
   "cell_type": "code",
   "execution_count": 5,
   "id": "a05c9d42",
   "metadata": {
    "execution": {
     "iopub.execute_input": "2023-03-09T02:39:07.465554Z",
     "iopub.status.busy": "2023-03-09T02:39:07.464234Z",
     "iopub.status.idle": "2023-03-09T02:39:07.497915Z",
     "shell.execute_reply": "2023-03-09T02:39:07.496190Z"
    },
    "papermill": {
     "duration": 0.053653,
     "end_time": "2023-03-09T02:39:07.502672",
     "exception": false,
     "start_time": "2023-03-09T02:39:07.449019",
     "status": "completed"
    },
    "tags": []
   },
   "outputs": [
    {
     "name": "stdout",
     "output_type": "stream",
     "text": [
      "<class 'pandas.core.frame.DataFrame'>\n",
      "RangeIndex: 8693 entries, 0 to 8692\n",
      "Data columns (total 15 columns):\n",
      " #   Column        Non-Null Count  Dtype  \n",
      "---  ------        --------------  -----  \n",
      " 0   PassengerId   8693 non-null   object \n",
      " 1   HomePlanet    8492 non-null   object \n",
      " 2   CryoSleep     8476 non-null   object \n",
      " 3   Destination   8511 non-null   object \n",
      " 4   Age           8514 non-null   float64\n",
      " 5   VIP           8490 non-null   object \n",
      " 6   RoomService   8512 non-null   float64\n",
      " 7   FoodCourt     8510 non-null   float64\n",
      " 8   ShoppingMall  8485 non-null   float64\n",
      " 9   Spa           8510 non-null   float64\n",
      " 10  VRDeck        8505 non-null   float64\n",
      " 11  Transported   8693 non-null   bool   \n",
      " 12  Deck          8494 non-null   object \n",
      " 13  Num           8494 non-null   object \n",
      " 14  Side          8494 non-null   object \n",
      "dtypes: bool(1), float64(6), object(8)\n",
      "memory usage: 959.4+ KB\n"
     ]
    }
   ],
   "source": [
    "#most_common_value = data_train['HomePlanet'].mode()[0]              #Text\n",
    "#data_train['HomePlanet'].fillna(most_common_value, inplace=True)\n",
    "\n",
    "#most_common_value = data_train['CryoSleep'].value_counts().idxmax() #Bool\n",
    "#data_train['CryoSleep'].fillna(most_common_value, inplace=True)\n",
    "\n",
    "#most_common_value = data_train['Deck'].mode()[0]                  \n",
    "#data_train['Deck'].fillna(most_common_value, inplace=True)\n",
    "\n",
    "#most_common_value = data_train['Side'].mode()[0]                  \n",
    "#data_train['Side'].fillna(most_common_value, inplace=True)\n",
    "\n",
    "#most_common_value = data_train['Destination'].mode()[0]\n",
    "#data_train['Destination'].fillna(most_common_value, inplace=True)\n",
    "\n",
    "#data_train['Age'].fillna(data_train['Age'].mean(), inplace=True)\n",
    "\n",
    "#most_common_value = data_train['VIP'].value_counts().idxmax()\n",
    "#data_train['VIP'].fillna(most_common_value, inplace=True)\n",
    "\n",
    "#data_train['RoomService'].fillna(data_train['RoomService'].median(), inplace=True)\n",
    "\n",
    "#data_train['FoodCourt'].fillna(data_train['FoodCourt'].median(), inplace=True)\n",
    "\n",
    "#data_train['ShoppingMall'].fillna(data_train['ShoppingMall'].median(), inplace=True)\n",
    "\n",
    "#data_train['Spa'].fillna(data_train['Spa'].median(), inplace=True)\n",
    "\n",
    "#data_train['VRDeck'].fillna(data_train['VRDeck'].median(), inplace=True)\n",
    "\n",
    "#data_train['Num'].fillna(data_train['VRDeck'].median(), inplace=True)\n",
    "\n",
    "data_train.fillna(method='ffill')\n",
    "\n",
    "# titanic_train.head(5)\n",
    "#titanic_train.shape\n",
    "data_train.info(verbose = True)\n"
   ]
  },
  {
   "cell_type": "code",
   "execution_count": 6,
   "id": "def4af08",
   "metadata": {
    "execution": {
     "iopub.execute_input": "2023-03-09T02:39:07.535447Z",
     "iopub.status.busy": "2023-03-09T02:39:07.533992Z",
     "iopub.status.idle": "2023-03-09T02:39:07.547653Z",
     "shell.execute_reply": "2023-03-09T02:39:07.546234Z"
    },
    "papermill": {
     "duration": 0.033558,
     "end_time": "2023-03-09T02:39:07.550733",
     "exception": false,
     "start_time": "2023-03-09T02:39:07.517175",
     "status": "completed"
    },
    "tags": []
   },
   "outputs": [],
   "source": [
    "encoded_data = pd.get_dummies(data_train['HomePlanet'], prefix='HomePlanet',drop_first=True)\n",
    "\n",
    "# Add the one-hot encoded columns to the original DataFrame\n",
    "data_train = pd.concat([data_train, encoded_data], axis=1)"
   ]
  },
  {
   "cell_type": "code",
   "execution_count": 7,
   "id": "e91945ce",
   "metadata": {
    "execution": {
     "iopub.execute_input": "2023-03-09T02:39:07.581897Z",
     "iopub.status.busy": "2023-03-09T02:39:07.581408Z",
     "iopub.status.idle": "2023-03-09T02:39:07.593760Z",
     "shell.execute_reply": "2023-03-09T02:39:07.592545Z"
    },
    "papermill": {
     "duration": 0.030812,
     "end_time": "2023-03-09T02:39:07.596363",
     "exception": false,
     "start_time": "2023-03-09T02:39:07.565551",
     "status": "completed"
    },
    "tags": []
   },
   "outputs": [],
   "source": [
    "encoded_data = pd.get_dummies(data_train['CryoSleep'], prefix='CryoSleep',drop_first=True)\n",
    "\n",
    "# Add the one-hot encoded columns to the original DataFrame\n",
    "data_train = pd.concat([data_train, encoded_data], axis=1)"
   ]
  },
  {
   "cell_type": "code",
   "execution_count": 8,
   "id": "9bffa147",
   "metadata": {
    "execution": {
     "iopub.execute_input": "2023-03-09T02:39:07.626184Z",
     "iopub.status.busy": "2023-03-09T02:39:07.625055Z",
     "iopub.status.idle": "2023-03-09T02:39:07.636866Z",
     "shell.execute_reply": "2023-03-09T02:39:07.635050Z"
    },
    "papermill": {
     "duration": 0.030111,
     "end_time": "2023-03-09T02:39:07.640107",
     "exception": false,
     "start_time": "2023-03-09T02:39:07.609996",
     "status": "completed"
    },
    "tags": []
   },
   "outputs": [],
   "source": [
    "encoded_data = pd.get_dummies(data_train['Destination'], prefix='Destination',drop_first=True)\n",
    "\n",
    "# Add the one-hot encoded columns to the original DataFrame\n",
    "data_train = pd.concat([data_train, encoded_data], axis=1)"
   ]
  },
  {
   "cell_type": "code",
   "execution_count": 9,
   "id": "88e20232",
   "metadata": {
    "execution": {
     "iopub.execute_input": "2023-03-09T02:39:07.671924Z",
     "iopub.status.busy": "2023-03-09T02:39:07.670993Z",
     "iopub.status.idle": "2023-03-09T02:39:07.682422Z",
     "shell.execute_reply": "2023-03-09T02:39:07.681028Z"
    },
    "papermill": {
     "duration": 0.030411,
     "end_time": "2023-03-09T02:39:07.685315",
     "exception": false,
     "start_time": "2023-03-09T02:39:07.654904",
     "status": "completed"
    },
    "tags": []
   },
   "outputs": [],
   "source": [
    "encoded_data = pd.get_dummies(data_train['VIP'], prefix='VIP',drop_first=True)\n",
    "\n",
    "# Add the one-hot encoded columns to the original DataFrame\n",
    "data_train = pd.concat([data_train, encoded_data], axis=1)"
   ]
  },
  {
   "cell_type": "code",
   "execution_count": 10,
   "id": "c8015eb4",
   "metadata": {
    "execution": {
     "iopub.execute_input": "2023-03-09T02:39:07.716045Z",
     "iopub.status.busy": "2023-03-09T02:39:07.714906Z",
     "iopub.status.idle": "2023-03-09T02:39:07.725895Z",
     "shell.execute_reply": "2023-03-09T02:39:07.724533Z"
    },
    "papermill": {
     "duration": 0.029781,
     "end_time": "2023-03-09T02:39:07.728906",
     "exception": false,
     "start_time": "2023-03-09T02:39:07.699125",
     "status": "completed"
    },
    "tags": []
   },
   "outputs": [],
   "source": [
    "encoded_data = pd.get_dummies(data_train['Deck'], prefix='Deck',drop_first=True)\n",
    "\n",
    "# Add the one-hot encoded columns to the original DataFrame\n",
    "data_train = pd.concat([data_train, encoded_data], axis=1)"
   ]
  },
  {
   "cell_type": "code",
   "execution_count": 11,
   "id": "52c4439c",
   "metadata": {
    "execution": {
     "iopub.execute_input": "2023-03-09T02:39:07.758306Z",
     "iopub.status.busy": "2023-03-09T02:39:07.757718Z",
     "iopub.status.idle": "2023-03-09T02:39:07.769035Z",
     "shell.execute_reply": "2023-03-09T02:39:07.767688Z"
    },
    "papermill": {
     "duration": 0.030393,
     "end_time": "2023-03-09T02:39:07.772997",
     "exception": false,
     "start_time": "2023-03-09T02:39:07.742604",
     "status": "completed"
    },
    "tags": []
   },
   "outputs": [],
   "source": [
    "encoded_data = pd.get_dummies(data_train['Side'], prefix='Side',drop_first=True)\n",
    "\n",
    "# Add the one-hot encoded columns to the original DataFrame\n",
    "data_train = pd.concat([data_train, encoded_data], axis=1)"
   ]
  },
  {
   "cell_type": "code",
   "execution_count": 12,
   "id": "922aac66",
   "metadata": {
    "execution": {
     "iopub.execute_input": "2023-03-09T02:39:07.802685Z",
     "iopub.status.busy": "2023-03-09T02:39:07.801817Z",
     "iopub.status.idle": "2023-03-09T02:39:07.821513Z",
     "shell.execute_reply": "2023-03-09T02:39:07.819560Z"
    },
    "papermill": {
     "duration": 0.038777,
     "end_time": "2023-03-09T02:39:07.825470",
     "exception": false,
     "start_time": "2023-03-09T02:39:07.786693",
     "status": "completed"
    },
    "tags": []
   },
   "outputs": [],
   "source": [
    "# remove the original \"Cabin\" column\n",
    "data_train = data_train.drop(columns=['HomePlanet'])\n",
    "data_train = data_train.drop(columns=['CryoSleep'])\n",
    "data_train = data_train.drop(columns=['Destination'])\n",
    "data_train = data_train.drop(columns=['VIP'])\n",
    "data_train = data_train.drop(columns=['Deck'])\n",
    "data_train = data_train.drop(columns=['Side'])"
   ]
  },
  {
   "cell_type": "code",
   "execution_count": 13,
   "id": "733133f7",
   "metadata": {
    "execution": {
     "iopub.execute_input": "2023-03-09T02:39:07.856766Z",
     "iopub.status.busy": "2023-03-09T02:39:07.855693Z",
     "iopub.status.idle": "2023-03-09T02:39:07.883353Z",
     "shell.execute_reply": "2023-03-09T02:39:07.882006Z"
    },
    "papermill": {
     "duration": 0.046522,
     "end_time": "2023-03-09T02:39:07.886299",
     "exception": false,
     "start_time": "2023-03-09T02:39:07.839777",
     "status": "completed"
    },
    "tags": []
   },
   "outputs": [
    {
     "data": {
      "text/html": [
       "<div>\n",
       "<style scoped>\n",
       "    .dataframe tbody tr th:only-of-type {\n",
       "        vertical-align: middle;\n",
       "    }\n",
       "\n",
       "    .dataframe tbody tr th {\n",
       "        vertical-align: top;\n",
       "    }\n",
       "\n",
       "    .dataframe thead th {\n",
       "        text-align: right;\n",
       "    }\n",
       "</style>\n",
       "<table border=\"1\" class=\"dataframe\">\n",
       "  <thead>\n",
       "    <tr style=\"text-align: right;\">\n",
       "      <th></th>\n",
       "      <th>PassengerId</th>\n",
       "      <th>Age</th>\n",
       "      <th>RoomService</th>\n",
       "      <th>FoodCourt</th>\n",
       "      <th>ShoppingMall</th>\n",
       "      <th>Spa</th>\n",
       "      <th>VRDeck</th>\n",
       "      <th>Transported</th>\n",
       "      <th>Num</th>\n",
       "      <th>HomePlanet_Europa</th>\n",
       "      <th>...</th>\n",
       "      <th>Destination_TRAPPIST-1e</th>\n",
       "      <th>VIP_True</th>\n",
       "      <th>Deck_B</th>\n",
       "      <th>Deck_C</th>\n",
       "      <th>Deck_D</th>\n",
       "      <th>Deck_E</th>\n",
       "      <th>Deck_F</th>\n",
       "      <th>Deck_G</th>\n",
       "      <th>Deck_T</th>\n",
       "      <th>Side_S</th>\n",
       "    </tr>\n",
       "  </thead>\n",
       "  <tbody>\n",
       "    <tr>\n",
       "      <th>0</th>\n",
       "      <td>0001_01</td>\n",
       "      <td>39.0</td>\n",
       "      <td>0.0</td>\n",
       "      <td>0.0</td>\n",
       "      <td>0.0</td>\n",
       "      <td>0.0</td>\n",
       "      <td>0.0</td>\n",
       "      <td>0</td>\n",
       "      <td>0</td>\n",
       "      <td>1</td>\n",
       "      <td>...</td>\n",
       "      <td>1</td>\n",
       "      <td>0</td>\n",
       "      <td>1</td>\n",
       "      <td>0</td>\n",
       "      <td>0</td>\n",
       "      <td>0</td>\n",
       "      <td>0</td>\n",
       "      <td>0</td>\n",
       "      <td>0</td>\n",
       "      <td>0</td>\n",
       "    </tr>\n",
       "    <tr>\n",
       "      <th>1</th>\n",
       "      <td>0002_01</td>\n",
       "      <td>24.0</td>\n",
       "      <td>109.0</td>\n",
       "      <td>9.0</td>\n",
       "      <td>25.0</td>\n",
       "      <td>549.0</td>\n",
       "      <td>44.0</td>\n",
       "      <td>1</td>\n",
       "      <td>0</td>\n",
       "      <td>0</td>\n",
       "      <td>...</td>\n",
       "      <td>1</td>\n",
       "      <td>0</td>\n",
       "      <td>0</td>\n",
       "      <td>0</td>\n",
       "      <td>0</td>\n",
       "      <td>0</td>\n",
       "      <td>1</td>\n",
       "      <td>0</td>\n",
       "      <td>0</td>\n",
       "      <td>1</td>\n",
       "    </tr>\n",
       "  </tbody>\n",
       "</table>\n",
       "<p>2 rows × 23 columns</p>\n",
       "</div>"
      ],
      "text/plain": [
       "  PassengerId   Age  RoomService  FoodCourt  ShoppingMall    Spa  VRDeck  \\\n",
       "0     0001_01  39.0          0.0        0.0           0.0    0.0     0.0   \n",
       "1     0002_01  24.0        109.0        9.0          25.0  549.0    44.0   \n",
       "\n",
       "   Transported Num  HomePlanet_Europa  ...  Destination_TRAPPIST-1e  VIP_True  \\\n",
       "0            0   0                  1  ...                        1         0   \n",
       "1            1   0                  0  ...                        1         0   \n",
       "\n",
       "   Deck_B  Deck_C  Deck_D  Deck_E  Deck_F  Deck_G  Deck_T  Side_S  \n",
       "0       1       0       0       0       0       0       0       0  \n",
       "1       0       0       0       0       1       0       0       1  \n",
       "\n",
       "[2 rows x 23 columns]"
      ]
     },
     "execution_count": 13,
     "metadata": {},
     "output_type": "execute_result"
    }
   ],
   "source": [
    "from sklearn.preprocessing import LabelEncoder\n",
    "LE=LabelEncoder()\n",
    "data_train['Transported']=LE.fit_transform((data_train['Transported']))\n",
    "data_train.head(2)"
   ]
  },
  {
   "cell_type": "code",
   "execution_count": 14,
   "id": "93705092",
   "metadata": {
    "execution": {
     "iopub.execute_input": "2023-03-09T02:39:07.916498Z",
     "iopub.status.busy": "2023-03-09T02:39:07.916099Z",
     "iopub.status.idle": "2023-03-09T02:39:07.920816Z",
     "shell.execute_reply": "2023-03-09T02:39:07.919516Z"
    },
    "papermill": {
     "duration": 0.022908,
     "end_time": "2023-03-09T02:39:07.923300",
     "exception": false,
     "start_time": "2023-03-09T02:39:07.900392",
     "status": "completed"
    },
    "tags": []
   },
   "outputs": [],
   "source": [
    "#from sklearn.preprocessing import PowerTransformer\n",
    "#PT_yj = PowerTransformer(method='yeo-johnson')"
   ]
  },
  {
   "cell_type": "code",
   "execution_count": 15,
   "id": "395cd024",
   "metadata": {
    "execution": {
     "iopub.execute_input": "2023-03-09T02:39:07.954237Z",
     "iopub.status.busy": "2023-03-09T02:39:07.953335Z",
     "iopub.status.idle": "2023-03-09T02:39:07.958776Z",
     "shell.execute_reply": "2023-03-09T02:39:07.957755Z"
    },
    "papermill": {
     "duration": 0.024422,
     "end_time": "2023-03-09T02:39:07.961632",
     "exception": false,
     "start_time": "2023-03-09T02:39:07.937210",
     "status": "completed"
    },
    "tags": []
   },
   "outputs": [],
   "source": [
    "#data_train[['Age','RoomService','FoodCourt','ShoppingMall','Spa','VRDeck']]=PT_yj.fit_transform(data_train[['Age','RoomService','FoodCourt','ShoppingMall','Spa','VRDeck']])\n"
   ]
  },
  {
   "cell_type": "code",
   "execution_count": 16,
   "id": "4470bb9d",
   "metadata": {
    "execution": {
     "iopub.execute_input": "2023-03-09T02:39:07.992715Z",
     "iopub.status.busy": "2023-03-09T02:39:07.991836Z",
     "iopub.status.idle": "2023-03-09T02:39:07.998002Z",
     "shell.execute_reply": "2023-03-09T02:39:07.996699Z"
    },
    "papermill": {
     "duration": 0.025272,
     "end_time": "2023-03-09T02:39:08.001188",
     "exception": false,
     "start_time": "2023-03-09T02:39:07.975916",
     "status": "completed"
    },
    "tags": []
   },
   "outputs": [],
   "source": [
    "#from sklearn.preprocessing import StandardScaler\n",
    "#ss=StandardScaler()\n",
    "#data_train['Age']=ss.fit_transform(data_train[['Age']])\n",
    "#data_train['RoomService']=ss.fit_transform(data_train[['RoomService']])\n",
    "#data_train['FoodCourt']=ss.fit_transform(data_train[['FoodCourt']])\n",
    "#data_train['ShoppingMall']=ss.fit_transform(data_train[['ShoppingMall']])\n",
    "#data_train['Spa']=ss.fit_transform(data_train[['Spa']])\n",
    "#data_train['VRDeck']=ss.fit_transform(data_train[['VRDeck']])"
   ]
  },
  {
   "cell_type": "code",
   "execution_count": 17,
   "id": "1be4641f",
   "metadata": {
    "execution": {
     "iopub.execute_input": "2023-03-09T02:39:08.033323Z",
     "iopub.status.busy": "2023-03-09T02:39:08.032538Z",
     "iopub.status.idle": "2023-03-09T02:39:08.055448Z",
     "shell.execute_reply": "2023-03-09T02:39:08.054113Z"
    },
    "papermill": {
     "duration": 0.042152,
     "end_time": "2023-03-09T02:39:08.058809",
     "exception": false,
     "start_time": "2023-03-09T02:39:08.016657",
     "status": "completed"
    },
    "tags": []
   },
   "outputs": [
    {
     "data": {
      "text/html": [
       "<div>\n",
       "<style scoped>\n",
       "    .dataframe tbody tr th:only-of-type {\n",
       "        vertical-align: middle;\n",
       "    }\n",
       "\n",
       "    .dataframe tbody tr th {\n",
       "        vertical-align: top;\n",
       "    }\n",
       "\n",
       "    .dataframe thead th {\n",
       "        text-align: right;\n",
       "    }\n",
       "</style>\n",
       "<table border=\"1\" class=\"dataframe\">\n",
       "  <thead>\n",
       "    <tr style=\"text-align: right;\">\n",
       "      <th></th>\n",
       "      <th>PassengerId</th>\n",
       "      <th>Age</th>\n",
       "      <th>RoomService</th>\n",
       "      <th>FoodCourt</th>\n",
       "      <th>ShoppingMall</th>\n",
       "      <th>Spa</th>\n",
       "      <th>VRDeck</th>\n",
       "      <th>Transported</th>\n",
       "      <th>Num</th>\n",
       "      <th>HomePlanet_Europa</th>\n",
       "      <th>...</th>\n",
       "      <th>Destination_TRAPPIST-1e</th>\n",
       "      <th>VIP_True</th>\n",
       "      <th>Deck_B</th>\n",
       "      <th>Deck_C</th>\n",
       "      <th>Deck_D</th>\n",
       "      <th>Deck_E</th>\n",
       "      <th>Deck_F</th>\n",
       "      <th>Deck_G</th>\n",
       "      <th>Deck_T</th>\n",
       "      <th>Side_S</th>\n",
       "    </tr>\n",
       "  </thead>\n",
       "  <tbody>\n",
       "    <tr>\n",
       "      <th>0</th>\n",
       "      <td>0001_01</td>\n",
       "      <td>39.0</td>\n",
       "      <td>0.0</td>\n",
       "      <td>0.0</td>\n",
       "      <td>0.0</td>\n",
       "      <td>0.0</td>\n",
       "      <td>0.0</td>\n",
       "      <td>0</td>\n",
       "      <td>0</td>\n",
       "      <td>1</td>\n",
       "      <td>...</td>\n",
       "      <td>1</td>\n",
       "      <td>0</td>\n",
       "      <td>1</td>\n",
       "      <td>0</td>\n",
       "      <td>0</td>\n",
       "      <td>0</td>\n",
       "      <td>0</td>\n",
       "      <td>0</td>\n",
       "      <td>0</td>\n",
       "      <td>0</td>\n",
       "    </tr>\n",
       "    <tr>\n",
       "      <th>1</th>\n",
       "      <td>0002_01</td>\n",
       "      <td>24.0</td>\n",
       "      <td>109.0</td>\n",
       "      <td>9.0</td>\n",
       "      <td>25.0</td>\n",
       "      <td>549.0</td>\n",
       "      <td>44.0</td>\n",
       "      <td>1</td>\n",
       "      <td>0</td>\n",
       "      <td>0</td>\n",
       "      <td>...</td>\n",
       "      <td>1</td>\n",
       "      <td>0</td>\n",
       "      <td>0</td>\n",
       "      <td>0</td>\n",
       "      <td>0</td>\n",
       "      <td>0</td>\n",
       "      <td>1</td>\n",
       "      <td>0</td>\n",
       "      <td>0</td>\n",
       "      <td>1</td>\n",
       "    </tr>\n",
       "  </tbody>\n",
       "</table>\n",
       "<p>2 rows × 23 columns</p>\n",
       "</div>"
      ],
      "text/plain": [
       "  PassengerId   Age  RoomService  FoodCourt  ShoppingMall    Spa  VRDeck  \\\n",
       "0     0001_01  39.0          0.0        0.0           0.0    0.0     0.0   \n",
       "1     0002_01  24.0        109.0        9.0          25.0  549.0    44.0   \n",
       "\n",
       "   Transported Num  HomePlanet_Europa  ...  Destination_TRAPPIST-1e  VIP_True  \\\n",
       "0            0   0                  1  ...                        1         0   \n",
       "1            1   0                  0  ...                        1         0   \n",
       "\n",
       "   Deck_B  Deck_C  Deck_D  Deck_E  Deck_F  Deck_G  Deck_T  Side_S  \n",
       "0       1       0       0       0       0       0       0       0  \n",
       "1       0       0       0       0       1       0       0       1  \n",
       "\n",
       "[2 rows x 23 columns]"
      ]
     },
     "execution_count": 17,
     "metadata": {},
     "output_type": "execute_result"
    }
   ],
   "source": [
    "data_train.head(2)"
   ]
  },
  {
   "cell_type": "code",
   "execution_count": null,
   "id": "e899b210",
   "metadata": {
    "papermill": {
     "duration": 0.015159,
     "end_time": "2023-03-09T02:39:08.090623",
     "exception": false,
     "start_time": "2023-03-09T02:39:08.075464",
     "status": "completed"
    },
    "tags": []
   },
   "outputs": [],
   "source": []
  },
  {
   "cell_type": "markdown",
   "id": "9c5f4fef",
   "metadata": {
    "papermill": {
     "duration": 0.014037,
     "end_time": "2023-03-09T02:39:08.119190",
     "exception": false,
     "start_time": "2023-03-09T02:39:08.105153",
     "status": "completed"
    },
    "tags": []
   },
   "source": [
    "## Test Data"
   ]
  },
  {
   "cell_type": "markdown",
   "id": "b92f3800",
   "metadata": {
    "papermill": {
     "duration": 0.013917,
     "end_time": "2023-03-09T02:39:08.147225",
     "exception": false,
     "start_time": "2023-03-09T02:39:08.133308",
     "status": "completed"
    },
    "tags": []
   },
   "source": [
    "<hr style=\"height:.9px;border:none;color:#333;background-color:#333;\" /><br>\n",
    "The test set is also available. Notice that there is no data for Transported (y-variable) in the test set. This is intentional.<br>"
   ]
  },
  {
   "cell_type": "code",
   "execution_count": 18,
   "id": "a150d2bf",
   "metadata": {
    "execution": {
     "iopub.execute_input": "2023-03-09T02:39:08.177979Z",
     "iopub.status.busy": "2023-03-09T02:39:08.177350Z",
     "iopub.status.idle": "2023-03-09T02:39:08.220132Z",
     "shell.execute_reply": "2023-03-09T02:39:08.218658Z"
    },
    "papermill": {
     "duration": 0.062047,
     "end_time": "2023-03-09T02:39:08.223477",
     "exception": false,
     "start_time": "2023-03-09T02:39:08.161430",
     "status": "completed"
    },
    "tags": []
   },
   "outputs": [
    {
     "name": "stdout",
     "output_type": "stream",
     "text": [
      "<class 'pandas.core.frame.DataFrame'>\n",
      "RangeIndex: 4277 entries, 0 to 4276\n",
      "Data columns (total 13 columns):\n",
      " #   Column        Non-Null Count  Dtype  \n",
      "---  ------        --------------  -----  \n",
      " 0   PassengerId   4277 non-null   object \n",
      " 1   HomePlanet    4190 non-null   object \n",
      " 2   CryoSleep     4184 non-null   object \n",
      " 3   Cabin         4177 non-null   object \n",
      " 4   Destination   4185 non-null   object \n",
      " 5   Age           4186 non-null   float64\n",
      " 6   VIP           4184 non-null   object \n",
      " 7   RoomService   4195 non-null   float64\n",
      " 8   FoodCourt     4171 non-null   float64\n",
      " 9   ShoppingMall  4179 non-null   float64\n",
      " 10  Spa           4176 non-null   float64\n",
      " 11  VRDeck        4197 non-null   float64\n",
      " 12  Name          4183 non-null   object \n",
      "dtypes: float64(6), object(7)\n",
      "memory usage: 434.5+ KB\n"
     ]
    }
   ],
   "source": [
    "# importing the training dataset\n",
    "path             = \"/kaggle/input/spaceship-titanic/\"\n",
    "testing_dataset  = 'test.csv'\n",
    "\n",
    "# importing the testing dataset\n",
    "data_test = pd.read_csv(filepath_or_buffer = path + testing_dataset)\n",
    "\n",
    "# checking basic info about the dataset\n",
    "data_test.info(verbose = True)"
   ]
  },
  {
   "cell_type": "code",
   "execution_count": 19,
   "id": "8bf929b8",
   "metadata": {
    "execution": {
     "iopub.execute_input": "2023-03-09T02:39:08.255687Z",
     "iopub.status.busy": "2023-03-09T02:39:08.255288Z",
     "iopub.status.idle": "2023-03-09T02:39:08.291266Z",
     "shell.execute_reply": "2023-03-09T02:39:08.289895Z"
    },
    "papermill": {
     "duration": 0.056186,
     "end_time": "2023-03-09T02:39:08.295228",
     "exception": false,
     "start_time": "2023-03-09T02:39:08.239042",
     "status": "completed"
    },
    "tags": []
   },
   "outputs": [
    {
     "data": {
      "text/html": [
       "<div>\n",
       "<style scoped>\n",
       "    .dataframe tbody tr th:only-of-type {\n",
       "        vertical-align: middle;\n",
       "    }\n",
       "\n",
       "    .dataframe tbody tr th {\n",
       "        vertical-align: top;\n",
       "    }\n",
       "\n",
       "    .dataframe thead th {\n",
       "        text-align: right;\n",
       "    }\n",
       "</style>\n",
       "<table border=\"1\" class=\"dataframe\">\n",
       "  <thead>\n",
       "    <tr style=\"text-align: right;\">\n",
       "      <th></th>\n",
       "      <th>PassengerId</th>\n",
       "      <th>HomePlanet</th>\n",
       "      <th>CryoSleep</th>\n",
       "      <th>Destination</th>\n",
       "      <th>Age</th>\n",
       "      <th>VIP</th>\n",
       "      <th>RoomService</th>\n",
       "      <th>FoodCourt</th>\n",
       "      <th>ShoppingMall</th>\n",
       "      <th>Spa</th>\n",
       "      <th>VRDeck</th>\n",
       "      <th>Deck</th>\n",
       "      <th>Num</th>\n",
       "      <th>Side</th>\n",
       "    </tr>\n",
       "  </thead>\n",
       "  <tbody>\n",
       "    <tr>\n",
       "      <th>0</th>\n",
       "      <td>0013_01</td>\n",
       "      <td>Earth</td>\n",
       "      <td>True</td>\n",
       "      <td>TRAPPIST-1e</td>\n",
       "      <td>27.0</td>\n",
       "      <td>False</td>\n",
       "      <td>0.0</td>\n",
       "      <td>0.0</td>\n",
       "      <td>0.0</td>\n",
       "      <td>0.0</td>\n",
       "      <td>0.0</td>\n",
       "      <td>G</td>\n",
       "      <td>3</td>\n",
       "      <td>S</td>\n",
       "    </tr>\n",
       "    <tr>\n",
       "      <th>1</th>\n",
       "      <td>0018_01</td>\n",
       "      <td>Earth</td>\n",
       "      <td>False</td>\n",
       "      <td>TRAPPIST-1e</td>\n",
       "      <td>19.0</td>\n",
       "      <td>False</td>\n",
       "      <td>0.0</td>\n",
       "      <td>9.0</td>\n",
       "      <td>0.0</td>\n",
       "      <td>2823.0</td>\n",
       "      <td>0.0</td>\n",
       "      <td>F</td>\n",
       "      <td>4</td>\n",
       "      <td>S</td>\n",
       "    </tr>\n",
       "  </tbody>\n",
       "</table>\n",
       "</div>"
      ],
      "text/plain": [
       "  PassengerId HomePlanet CryoSleep  Destination   Age    VIP  RoomService  \\\n",
       "0     0013_01      Earth      True  TRAPPIST-1e  27.0  False          0.0   \n",
       "1     0018_01      Earth     False  TRAPPIST-1e  19.0  False          0.0   \n",
       "\n",
       "   FoodCourt  ShoppingMall     Spa  VRDeck Deck Num Side  \n",
       "0        0.0           0.0     0.0     0.0    G   3    S  \n",
       "1        9.0           0.0  2823.0     0.0    F   4    S  "
      ]
     },
     "execution_count": 19,
     "metadata": {},
     "output_type": "execute_result"
    }
   ],
   "source": [
    "import pandas as pd\n",
    "\n",
    "\n",
    "\n",
    "# split the \"Cabin\" column into three separate columns\n",
    "data_test[['Deck', 'Num', 'Side']] = data_test['Cabin'].str.split('/', expand=True)\n",
    "\n",
    "# remove the original \"Cabin\" column\n",
    "data_test = data_test.drop(columns=['Cabin'])\n",
    "#data_test = data_test.drop(columns=['PassengerId'])\n",
    "data_test = data_test.drop(columns=['Name'])\n",
    "\n",
    "\n",
    "# print the resulting dataframe\n",
    "data_test.head(2)"
   ]
  },
  {
   "cell_type": "code",
   "execution_count": 20,
   "id": "ab6f2092",
   "metadata": {
    "execution": {
     "iopub.execute_input": "2023-03-09T02:39:08.327093Z",
     "iopub.status.busy": "2023-03-09T02:39:08.325905Z",
     "iopub.status.idle": "2023-03-09T02:39:08.345964Z",
     "shell.execute_reply": "2023-03-09T02:39:08.344129Z"
    },
    "papermill": {
     "duration": 0.039519,
     "end_time": "2023-03-09T02:39:08.349462",
     "exception": false,
     "start_time": "2023-03-09T02:39:08.309943",
     "status": "completed"
    },
    "tags": []
   },
   "outputs": [
    {
     "name": "stdout",
     "output_type": "stream",
     "text": [
      "<class 'pandas.core.frame.DataFrame'>\n",
      "RangeIndex: 4277 entries, 0 to 4276\n",
      "Data columns (total 14 columns):\n",
      " #   Column        Non-Null Count  Dtype  \n",
      "---  ------        --------------  -----  \n",
      " 0   PassengerId   4277 non-null   object \n",
      " 1   HomePlanet    4190 non-null   object \n",
      " 2   CryoSleep     4184 non-null   object \n",
      " 3   Destination   4185 non-null   object \n",
      " 4   Age           4186 non-null   float64\n",
      " 5   VIP           4184 non-null   object \n",
      " 6   RoomService   4195 non-null   float64\n",
      " 7   FoodCourt     4171 non-null   float64\n",
      " 8   ShoppingMall  4179 non-null   float64\n",
      " 9   Spa           4176 non-null   float64\n",
      " 10  VRDeck        4197 non-null   float64\n",
      " 11  Deck          4177 non-null   object \n",
      " 12  Num           4177 non-null   object \n",
      " 13  Side          4177 non-null   object \n",
      "dtypes: float64(6), object(8)\n",
      "memory usage: 467.9+ KB\n"
     ]
    }
   ],
   "source": [
    "#most_common_value = data_test['HomePlanet'].mode()[0]              #Text\n",
    "#data_test['HomePlanet'].fillna(most_common_value, inplace=True)\n",
    "\n",
    "#most_common_value = data_test['CryoSleep'].value_counts().idxmax() #Bool\n",
    "#data_test['CryoSleep'].fillna(most_common_value, inplace=True)\n",
    "\n",
    "#most_common_value = data_test['Deck'].mode()[0]                  \n",
    "#data_test['Deck'].fillna(most_common_value, inplace=True)\n",
    "\n",
    "#most_common_value = data_test['Side'].mode()[0]                  \n",
    "#data_test['Side'].fillna(most_common_value, inplace=True)\n",
    "\n",
    "#most_common_value = data_test['Destination'].mode()[0]\n",
    "#data_test['Destination'].fillna(most_common_value, inplace=True)\n",
    "\n",
    "#data_test['Age'].fillna(data_test['Age'].mean(), inplace=True)\n",
    "\n",
    "#most_common_value = data_test['VIP'].value_counts().idxmax()\n",
    "#data_test['VIP'].fillna(most_common_value, inplace=True)\n",
    "\n",
    "#data_test['RoomService'].fillna(data_test['RoomService'].median(), inplace=True)\n",
    "\n",
    "#data_test['FoodCourt'].fillna(data_test['FoodCourt'].median(), inplace=True)\n",
    "\n",
    "#data_test['ShoppingMall'].fillna(data_test['ShoppingMall'].median(), inplace=True)\n",
    "\n",
    "#data_test['Spa'].fillna(data_test['Spa'].median(), inplace=True)\n",
    "\n",
    "#data_test['VRDeck'].fillna(data_test['VRDeck'].median(), inplace=True)\n",
    "\n",
    "#data_test['Num'].fillna(data_test['VRDeck'].median(), inplace=True)\n",
    "\n",
    "data_train.fillna(method='ffill')\n",
    "# titanic_train.head(5)\n",
    "#titanic_train.shape\n",
    "data_test.info(verbose = True)\n"
   ]
  },
  {
   "cell_type": "code",
   "execution_count": 21,
   "id": "1209cabf",
   "metadata": {
    "execution": {
     "iopub.execute_input": "2023-03-09T02:39:08.383893Z",
     "iopub.status.busy": "2023-03-09T02:39:08.383430Z",
     "iopub.status.idle": "2023-03-09T02:39:08.396590Z",
     "shell.execute_reply": "2023-03-09T02:39:08.395150Z"
    },
    "papermill": {
     "duration": 0.034789,
     "end_time": "2023-03-09T02:39:08.399932",
     "exception": false,
     "start_time": "2023-03-09T02:39:08.365143",
     "status": "completed"
    },
    "tags": []
   },
   "outputs": [],
   "source": [
    "encoded_data = pd.get_dummies(data_test['HomePlanet'], prefix='HomePlanet',drop_first=True)\n",
    "\n",
    "# Add the one-hot encoded columns to the original DataFrame\n",
    "data_test = pd.concat([data_test, encoded_data], axis=1)"
   ]
  },
  {
   "cell_type": "code",
   "execution_count": 22,
   "id": "89c38ef4",
   "metadata": {
    "execution": {
     "iopub.execute_input": "2023-03-09T02:39:08.433825Z",
     "iopub.status.busy": "2023-03-09T02:39:08.432976Z",
     "iopub.status.idle": "2023-03-09T02:39:08.443360Z",
     "shell.execute_reply": "2023-03-09T02:39:08.441867Z"
    },
    "papermill": {
     "duration": 0.030534,
     "end_time": "2023-03-09T02:39:08.446193",
     "exception": false,
     "start_time": "2023-03-09T02:39:08.415659",
     "status": "completed"
    },
    "tags": []
   },
   "outputs": [],
   "source": [
    "encoded_data = pd.get_dummies(data_test['CryoSleep'], prefix='CryoSleep',drop_first=True)\n",
    "\n",
    "# Add the one-hot encoded columns to the original DataFrame\n",
    "data_test = pd.concat([data_test, encoded_data], axis=1)"
   ]
  },
  {
   "cell_type": "code",
   "execution_count": 23,
   "id": "f7ce590a",
   "metadata": {
    "execution": {
     "iopub.execute_input": "2023-03-09T02:39:08.478121Z",
     "iopub.status.busy": "2023-03-09T02:39:08.477697Z",
     "iopub.status.idle": "2023-03-09T02:39:08.488682Z",
     "shell.execute_reply": "2023-03-09T02:39:08.486987Z"
    },
    "papermill": {
     "duration": 0.031281,
     "end_time": "2023-03-09T02:39:08.492140",
     "exception": false,
     "start_time": "2023-03-09T02:39:08.460859",
     "status": "completed"
    },
    "tags": []
   },
   "outputs": [],
   "source": [
    "encoded_data = pd.get_dummies(data_test['Destination'], prefix='Destination',drop_first=True)\n",
    "\n",
    "# Add the one-hot encoded columns to the original DataFrame\n",
    "data_test = pd.concat([data_test, encoded_data], axis=1)"
   ]
  },
  {
   "cell_type": "code",
   "execution_count": 24,
   "id": "0c92475f",
   "metadata": {
    "execution": {
     "iopub.execute_input": "2023-03-09T02:39:08.523868Z",
     "iopub.status.busy": "2023-03-09T02:39:08.523425Z",
     "iopub.status.idle": "2023-03-09T02:39:08.534431Z",
     "shell.execute_reply": "2023-03-09T02:39:08.532761Z"
    },
    "papermill": {
     "duration": 0.030516,
     "end_time": "2023-03-09T02:39:08.537311",
     "exception": false,
     "start_time": "2023-03-09T02:39:08.506795",
     "status": "completed"
    },
    "tags": []
   },
   "outputs": [],
   "source": [
    "encoded_data = pd.get_dummies(data_test['VIP'], prefix='VIP',drop_first=True)\n",
    "\n",
    "# Add the one-hot encoded columns to the original DataFrame\n",
    "data_test = pd.concat([data_test, encoded_data], axis=1)"
   ]
  },
  {
   "cell_type": "code",
   "execution_count": 25,
   "id": "10ea1890",
   "metadata": {
    "execution": {
     "iopub.execute_input": "2023-03-09T02:39:08.571860Z",
     "iopub.status.busy": "2023-03-09T02:39:08.571419Z",
     "iopub.status.idle": "2023-03-09T02:39:08.582231Z",
     "shell.execute_reply": "2023-03-09T02:39:08.580858Z"
    },
    "papermill": {
     "duration": 0.032094,
     "end_time": "2023-03-09T02:39:08.585737",
     "exception": false,
     "start_time": "2023-03-09T02:39:08.553643",
     "status": "completed"
    },
    "tags": []
   },
   "outputs": [],
   "source": [
    "encoded_data = pd.get_dummies(data_test['Deck'], prefix='Deck',drop_first=True)\n",
    "\n",
    "# Add the one-hot encoded columns to the original DataFrame\n",
    "data_test = pd.concat([data_test, encoded_data], axis=1)"
   ]
  },
  {
   "cell_type": "code",
   "execution_count": 26,
   "id": "45be9208",
   "metadata": {
    "execution": {
     "iopub.execute_input": "2023-03-09T02:39:08.619239Z",
     "iopub.status.busy": "2023-03-09T02:39:08.618793Z",
     "iopub.status.idle": "2023-03-09T02:39:08.630699Z",
     "shell.execute_reply": "2023-03-09T02:39:08.629293Z"
    },
    "papermill": {
     "duration": 0.031928,
     "end_time": "2023-03-09T02:39:08.633572",
     "exception": false,
     "start_time": "2023-03-09T02:39:08.601644",
     "status": "completed"
    },
    "tags": []
   },
   "outputs": [],
   "source": [
    "encoded_data = pd.get_dummies(data_test['Side'], prefix='Side',drop_first=True)\n",
    "\n",
    "# Add the one-hot encoded columns to the original DataFrame\n",
    "data_test = pd.concat([data_test, encoded_data], axis=1)"
   ]
  },
  {
   "cell_type": "code",
   "execution_count": 27,
   "id": "a13b72e8",
   "metadata": {
    "execution": {
     "iopub.execute_input": "2023-03-09T02:39:08.666310Z",
     "iopub.status.busy": "2023-03-09T02:39:08.665879Z",
     "iopub.status.idle": "2023-03-09T02:39:08.682110Z",
     "shell.execute_reply": "2023-03-09T02:39:08.680856Z"
    },
    "papermill": {
     "duration": 0.035591,
     "end_time": "2023-03-09T02:39:08.685057",
     "exception": false,
     "start_time": "2023-03-09T02:39:08.649466",
     "status": "completed"
    },
    "tags": []
   },
   "outputs": [],
   "source": [
    "# remove the original \"Cabin\" column\n",
    "data_test = data_test.drop(columns=['HomePlanet'])\n",
    "data_test = data_test.drop(columns=['CryoSleep'])\n",
    "data_test = data_test.drop(columns=['Destination'])\n",
    "data_test = data_test.drop(columns=['VIP'])\n",
    "data_test = data_test.drop(columns=['Deck'])\n",
    "data_test = data_test.drop(columns=['Side'])"
   ]
  },
  {
   "cell_type": "code",
   "execution_count": 28,
   "id": "981d4932",
   "metadata": {
    "execution": {
     "iopub.execute_input": "2023-03-09T02:39:08.716485Z",
     "iopub.status.busy": "2023-03-09T02:39:08.716061Z",
     "iopub.status.idle": "2023-03-09T02:39:08.720723Z",
     "shell.execute_reply": "2023-03-09T02:39:08.719642Z"
    },
    "papermill": {
     "duration": 0.023888,
     "end_time": "2023-03-09T02:39:08.723612",
     "exception": false,
     "start_time": "2023-03-09T02:39:08.699724",
     "status": "completed"
    },
    "tags": []
   },
   "outputs": [],
   "source": [
    "#from sklearn.preprocessing import PowerTransformer\n",
    "#PT_yj = PowerTransformer(method='yeo-johnson')"
   ]
  },
  {
   "cell_type": "code",
   "execution_count": 29,
   "id": "c9ceb919",
   "metadata": {
    "execution": {
     "iopub.execute_input": "2023-03-09T02:39:08.754638Z",
     "iopub.status.busy": "2023-03-09T02:39:08.754222Z",
     "iopub.status.idle": "2023-03-09T02:39:08.760455Z",
     "shell.execute_reply": "2023-03-09T02:39:08.759207Z"
    },
    "papermill": {
     "duration": 0.0248,
     "end_time": "2023-03-09T02:39:08.762971",
     "exception": false,
     "start_time": "2023-03-09T02:39:08.738171",
     "status": "completed"
    },
    "tags": []
   },
   "outputs": [],
   "source": [
    "#data_test[['Age','RoomService','FoodCourt','ShoppingMall','Spa','VRDeck']]=PT_yj.fit_transform(data_test[['Age','RoomService','FoodCourt','ShoppingMall','Spa','VRDeck']])\n"
   ]
  },
  {
   "cell_type": "code",
   "execution_count": 30,
   "id": "9046dafa",
   "metadata": {
    "execution": {
     "iopub.execute_input": "2023-03-09T02:39:08.795393Z",
     "iopub.status.busy": "2023-03-09T02:39:08.794691Z",
     "iopub.status.idle": "2023-03-09T02:39:08.799797Z",
     "shell.execute_reply": "2023-03-09T02:39:08.798816Z"
    },
    "papermill": {
     "duration": 0.024993,
     "end_time": "2023-03-09T02:39:08.802417",
     "exception": false,
     "start_time": "2023-03-09T02:39:08.777424",
     "status": "completed"
    },
    "tags": []
   },
   "outputs": [],
   "source": [
    "#from sklearn.preprocessing import StandardScaler\n",
    "#ss=StandardScaler()\n",
    "#data_test['Age']=ss.fit_transform(data_test[['Age']])\n",
    "#data_test['RoomService']=ss.fit_transform(data_test[['RoomService']])\n",
    "#data_test['FoodCourt']=ss.fit_transform(data_test[['FoodCourt']])\n",
    "#data_test['ShoppingMall']=ss.fit_transform(data_test[['ShoppingMall']])\n",
    "#data_test['Spa']=ss.fit_transform(data_test[['Spa']])\n",
    "#data_test['VRDeck']=ss.fit_transform(data_test[['VRDeck']])"
   ]
  },
  {
   "cell_type": "markdown",
   "id": "d7e2855b",
   "metadata": {
    "papermill": {
     "duration": 0.015174,
     "end_time": "2023-03-09T02:39:08.832374",
     "exception": false,
     "start_time": "2023-03-09T02:39:08.817200",
     "status": "completed"
    },
    "tags": []
   },
   "source": [
    "<hr style=\"height:.9px;border:none;color:#333;background-color:#333;\" /><br>\n",
    "You may want to join the datasets together before feature engineering. This will help make things more efficient.<br>"
   ]
  },
  {
   "cell_type": "code",
   "execution_count": 31,
   "id": "64a949fc",
   "metadata": {
    "execution": {
     "iopub.execute_input": "2023-03-09T02:39:08.864488Z",
     "iopub.status.busy": "2023-03-09T02:39:08.864097Z",
     "iopub.status.idle": "2023-03-09T02:39:08.877482Z",
     "shell.execute_reply": "2023-03-09T02:39:08.876157Z"
    },
    "papermill": {
     "duration": 0.032706,
     "end_time": "2023-03-09T02:39:08.880431",
     "exception": false,
     "start_time": "2023-03-09T02:39:08.847725",
     "status": "completed"
    },
    "tags": []
   },
   "outputs": [],
   "source": [
    "data_train['set'] = 'Training'\n",
    "data_test ['set'] = 'Testing'\n",
    "\n",
    "# concatenating both datasets together for mv and feature engineering\n",
    "titanic_df = data_train.append(other = data_test)\n",
    "\n",
    "# resetting index to avoid problems later in the code\n",
    "titanic_df.reset_index(drop = False,\n",
    "                       inplace = True)"
   ]
  },
  {
   "cell_type": "code",
   "execution_count": 32,
   "id": "36c6ebb1",
   "metadata": {
    "execution": {
     "iopub.execute_input": "2023-03-09T02:39:08.914414Z",
     "iopub.status.busy": "2023-03-09T02:39:08.913196Z",
     "iopub.status.idle": "2023-03-09T02:39:08.942982Z",
     "shell.execute_reply": "2023-03-09T02:39:08.941471Z"
    },
    "papermill": {
     "duration": 0.050736,
     "end_time": "2023-03-09T02:39:08.946256",
     "exception": false,
     "start_time": "2023-03-09T02:39:08.895520",
     "status": "completed"
    },
    "tags": []
   },
   "outputs": [
    {
     "data": {
      "text/html": [
       "<div>\n",
       "<style scoped>\n",
       "    .dataframe tbody tr th:only-of-type {\n",
       "        vertical-align: middle;\n",
       "    }\n",
       "\n",
       "    .dataframe tbody tr th {\n",
       "        vertical-align: top;\n",
       "    }\n",
       "\n",
       "    .dataframe thead th {\n",
       "        text-align: right;\n",
       "    }\n",
       "</style>\n",
       "<table border=\"1\" class=\"dataframe\">\n",
       "  <thead>\n",
       "    <tr style=\"text-align: right;\">\n",
       "      <th></th>\n",
       "      <th>PassengerId</th>\n",
       "      <th>Age</th>\n",
       "      <th>RoomService</th>\n",
       "      <th>FoodCourt</th>\n",
       "      <th>ShoppingMall</th>\n",
       "      <th>Spa</th>\n",
       "      <th>VRDeck</th>\n",
       "      <th>Num</th>\n",
       "      <th>HomePlanet_Europa</th>\n",
       "      <th>HomePlanet_Mars</th>\n",
       "      <th>...</th>\n",
       "      <th>VIP_True</th>\n",
       "      <th>Deck_B</th>\n",
       "      <th>Deck_C</th>\n",
       "      <th>Deck_D</th>\n",
       "      <th>Deck_E</th>\n",
       "      <th>Deck_F</th>\n",
       "      <th>Deck_G</th>\n",
       "      <th>Deck_T</th>\n",
       "      <th>Side_S</th>\n",
       "      <th>set</th>\n",
       "    </tr>\n",
       "  </thead>\n",
       "  <tbody>\n",
       "    <tr>\n",
       "      <th>0</th>\n",
       "      <td>0013_01</td>\n",
       "      <td>27.0</td>\n",
       "      <td>0.0</td>\n",
       "      <td>0.0</td>\n",
       "      <td>0.0</td>\n",
       "      <td>0.0</td>\n",
       "      <td>0.0</td>\n",
       "      <td>3</td>\n",
       "      <td>0</td>\n",
       "      <td>0</td>\n",
       "      <td>...</td>\n",
       "      <td>0</td>\n",
       "      <td>0</td>\n",
       "      <td>0</td>\n",
       "      <td>0</td>\n",
       "      <td>0</td>\n",
       "      <td>0</td>\n",
       "      <td>1</td>\n",
       "      <td>0</td>\n",
       "      <td>1</td>\n",
       "      <td>Testing</td>\n",
       "    </tr>\n",
       "    <tr>\n",
       "      <th>1</th>\n",
       "      <td>0018_01</td>\n",
       "      <td>19.0</td>\n",
       "      <td>0.0</td>\n",
       "      <td>9.0</td>\n",
       "      <td>0.0</td>\n",
       "      <td>2823.0</td>\n",
       "      <td>0.0</td>\n",
       "      <td>4</td>\n",
       "      <td>0</td>\n",
       "      <td>0</td>\n",
       "      <td>...</td>\n",
       "      <td>0</td>\n",
       "      <td>0</td>\n",
       "      <td>0</td>\n",
       "      <td>0</td>\n",
       "      <td>0</td>\n",
       "      <td>1</td>\n",
       "      <td>0</td>\n",
       "      <td>0</td>\n",
       "      <td>1</td>\n",
       "      <td>Testing</td>\n",
       "    </tr>\n",
       "    <tr>\n",
       "      <th>2</th>\n",
       "      <td>0019_01</td>\n",
       "      <td>31.0</td>\n",
       "      <td>0.0</td>\n",
       "      <td>0.0</td>\n",
       "      <td>0.0</td>\n",
       "      <td>0.0</td>\n",
       "      <td>0.0</td>\n",
       "      <td>0</td>\n",
       "      <td>1</td>\n",
       "      <td>0</td>\n",
       "      <td>...</td>\n",
       "      <td>0</td>\n",
       "      <td>0</td>\n",
       "      <td>1</td>\n",
       "      <td>0</td>\n",
       "      <td>0</td>\n",
       "      <td>0</td>\n",
       "      <td>0</td>\n",
       "      <td>0</td>\n",
       "      <td>1</td>\n",
       "      <td>Testing</td>\n",
       "    </tr>\n",
       "    <tr>\n",
       "      <th>3</th>\n",
       "      <td>0021_01</td>\n",
       "      <td>38.0</td>\n",
       "      <td>0.0</td>\n",
       "      <td>6652.0</td>\n",
       "      <td>0.0</td>\n",
       "      <td>181.0</td>\n",
       "      <td>585.0</td>\n",
       "      <td>1</td>\n",
       "      <td>1</td>\n",
       "      <td>0</td>\n",
       "      <td>...</td>\n",
       "      <td>0</td>\n",
       "      <td>0</td>\n",
       "      <td>1</td>\n",
       "      <td>0</td>\n",
       "      <td>0</td>\n",
       "      <td>0</td>\n",
       "      <td>0</td>\n",
       "      <td>0</td>\n",
       "      <td>1</td>\n",
       "      <td>Testing</td>\n",
       "    </tr>\n",
       "    <tr>\n",
       "      <th>4</th>\n",
       "      <td>0023_01</td>\n",
       "      <td>20.0</td>\n",
       "      <td>10.0</td>\n",
       "      <td>0.0</td>\n",
       "      <td>635.0</td>\n",
       "      <td>0.0</td>\n",
       "      <td>0.0</td>\n",
       "      <td>5</td>\n",
       "      <td>0</td>\n",
       "      <td>0</td>\n",
       "      <td>...</td>\n",
       "      <td>0</td>\n",
       "      <td>0</td>\n",
       "      <td>0</td>\n",
       "      <td>0</td>\n",
       "      <td>0</td>\n",
       "      <td>1</td>\n",
       "      <td>0</td>\n",
       "      <td>0</td>\n",
       "      <td>1</td>\n",
       "      <td>Testing</td>\n",
       "    </tr>\n",
       "  </tbody>\n",
       "</table>\n",
       "<p>5 rows × 23 columns</p>\n",
       "</div>"
      ],
      "text/plain": [
       "  PassengerId   Age  RoomService  FoodCourt  ShoppingMall     Spa  VRDeck Num  \\\n",
       "0     0013_01  27.0          0.0        0.0           0.0     0.0     0.0   3   \n",
       "1     0018_01  19.0          0.0        9.0           0.0  2823.0     0.0   4   \n",
       "2     0019_01  31.0          0.0        0.0           0.0     0.0     0.0   0   \n",
       "3     0021_01  38.0          0.0     6652.0           0.0   181.0   585.0   1   \n",
       "4     0023_01  20.0         10.0        0.0         635.0     0.0     0.0   5   \n",
       "\n",
       "   HomePlanet_Europa  HomePlanet_Mars  ...  VIP_True  Deck_B  Deck_C  Deck_D  \\\n",
       "0                  0                0  ...         0       0       0       0   \n",
       "1                  0                0  ...         0       0       0       0   \n",
       "2                  1                0  ...         0       0       1       0   \n",
       "3                  1                0  ...         0       0       1       0   \n",
       "4                  0                0  ...         0       0       0       0   \n",
       "\n",
       "   Deck_E  Deck_F  Deck_G  Deck_T  Side_S      set  \n",
       "0       0       0       1       0       1  Testing  \n",
       "1       0       1       0       0       1  Testing  \n",
       "2       0       0       0       0       1  Testing  \n",
       "3       0       0       0       0       1  Testing  \n",
       "4       0       1       0       0       1  Testing  \n",
       "\n",
       "[5 rows x 23 columns]"
      ]
     },
     "execution_count": 32,
     "metadata": {},
     "output_type": "execute_result"
    }
   ],
   "source": [
    "data_test.head(5)"
   ]
  },
  {
   "cell_type": "code",
   "execution_count": 33,
   "id": "17b8697b",
   "metadata": {
    "execution": {
     "iopub.execute_input": "2023-03-09T02:39:08.981199Z",
     "iopub.status.busy": "2023-03-09T02:39:08.979579Z",
     "iopub.status.idle": "2023-03-09T02:39:09.002501Z",
     "shell.execute_reply": "2023-03-09T02:39:09.000469Z"
    },
    "papermill": {
     "duration": 0.043165,
     "end_time": "2023-03-09T02:39:09.006194",
     "exception": false,
     "start_time": "2023-03-09T02:39:08.963029",
     "status": "completed"
    },
    "tags": []
   },
   "outputs": [
    {
     "name": "stdout",
     "output_type": "stream",
     "text": [
      "<class 'pandas.core.frame.DataFrame'>\n",
      "RangeIndex: 12970 entries, 0 to 12969\n",
      "Data columns (total 25 columns):\n",
      " #   Column                     Non-Null Count  Dtype  \n",
      "---  ------                     --------------  -----  \n",
      " 0   index                      12970 non-null  int64  \n",
      " 1   PassengerId                12970 non-null  object \n",
      " 2   Age                        12700 non-null  float64\n",
      " 3   RoomService                12707 non-null  float64\n",
      " 4   FoodCourt                  12681 non-null  float64\n",
      " 5   ShoppingMall               12664 non-null  float64\n",
      " 6   Spa                        12686 non-null  float64\n",
      " 7   VRDeck                     12702 non-null  float64\n",
      " 8   Transported                8693 non-null   float64\n",
      " 9   Num                        12671 non-null  object \n",
      " 10  HomePlanet_Europa          12970 non-null  uint8  \n",
      " 11  HomePlanet_Mars            12970 non-null  uint8  \n",
      " 12  CryoSleep_True             12970 non-null  uint8  \n",
      " 13  Destination_PSO J318.5-22  12970 non-null  uint8  \n",
      " 14  Destination_TRAPPIST-1e    12970 non-null  uint8  \n",
      " 15  VIP_True                   12970 non-null  uint8  \n",
      " 16  Deck_B                     12970 non-null  uint8  \n",
      " 17  Deck_C                     12970 non-null  uint8  \n",
      " 18  Deck_D                     12970 non-null  uint8  \n",
      " 19  Deck_E                     12970 non-null  uint8  \n",
      " 20  Deck_F                     12970 non-null  uint8  \n",
      " 21  Deck_G                     12970 non-null  uint8  \n",
      " 22  Deck_T                     12970 non-null  uint8  \n",
      " 23  Side_S                     12970 non-null  uint8  \n",
      " 24  set                        12970 non-null  object \n",
      "dtypes: float64(7), int64(1), object(3), uint8(14)\n",
      "memory usage: 1.3+ MB\n"
     ]
    }
   ],
   "source": [
    "titanic_df.info()"
   ]
  },
  {
   "cell_type": "markdown",
   "id": "7fb41494",
   "metadata": {
    "papermill": {
     "duration": 0.017267,
     "end_time": "2023-03-09T02:39:09.039414",
     "exception": false,
     "start_time": "2023-03-09T02:39:09.022147",
     "status": "completed"
    },
    "tags": []
   },
   "source": [
    "<hr style=\"height:.9px;border:none;color:#333;background-color:#333;\" /><br>\n",
    "Let's look at correlations to find an x-variable to model with.<br>"
   ]
  },
  {
   "cell_type": "code",
   "execution_count": 34,
   "id": "73189460",
   "metadata": {
    "execution": {
     "iopub.execute_input": "2023-03-09T02:39:09.073407Z",
     "iopub.status.busy": "2023-03-09T02:39:09.072156Z",
     "iopub.status.idle": "2023-03-09T02:39:09.105679Z",
     "shell.execute_reply": "2023-03-09T02:39:09.104628Z"
    },
    "papermill": {
     "duration": 0.053454,
     "end_time": "2023-03-09T02:39:09.108924",
     "exception": false,
     "start_time": "2023-03-09T02:39:09.055470",
     "status": "completed"
    },
    "tags": []
   },
   "outputs": [
    {
     "data": {
      "text/plain": [
       "Transported                  1.00\n",
       "CryoSleep_True               0.46\n",
       "RoomService                  0.24\n",
       "Spa                          0.22\n",
       "VRDeck                       0.21\n",
       "HomePlanet_Europa            0.18\n",
       "Deck_B                       0.14\n",
       "Deck_C                       0.11\n",
       "Side_S                       0.10\n",
       "Deck_E                       0.10\n",
       "Deck_F                       0.09\n",
       "Destination_TRAPPIST-1e      0.09\n",
       "Age                          0.08\n",
       "FoodCourt                    0.05\n",
       "VIP_True                     0.04\n",
       "Deck_D                       0.03\n",
       "HomePlanet_Mars              0.02\n",
       "Deck_G                       0.02\n",
       "ShoppingMall                 0.01\n",
       "Deck_T                       0.01\n",
       "Destination_PSO J318.5-22    0.00\n",
       "Name: Transported, dtype: float64"
      ]
     },
     "execution_count": 34,
     "metadata": {},
     "output_type": "execute_result"
    }
   ],
   "source": [
    "# instantiating a correlation matrix\n",
    "titanic_corr = data_train.corr(method = 'pearson').round(decimals = 2)\n",
    "\n",
    "# transforming correlations to absolute values\n",
    "titanic_corr.loc[ : , 'Transported' ].apply(func = abs).sort_values(ascending = False)"
   ]
  },
  {
   "cell_type": "markdown",
   "id": "f3b7f341",
   "metadata": {
    "papermill": {
     "duration": 0.014849,
     "end_time": "2023-03-09T02:39:09.139123",
     "exception": false,
     "start_time": "2023-03-09T02:39:09.124274",
     "status": "completed"
    },
    "tags": []
   },
   "source": [
    "<hr style=\"height:.9px;border:none;color:#333;background-color:#333;\" /><br>\n",
    "Since training and testing sets have already been developed for us, we can simply select the X-features we want to model with and we're good to go.<br>"
   ]
  },
  {
   "cell_type": "code",
   "execution_count": 35,
   "id": "d42d6529",
   "metadata": {
    "execution": {
     "iopub.execute_input": "2023-03-09T02:39:09.173599Z",
     "iopub.status.busy": "2023-03-09T02:39:09.171906Z",
     "iopub.status.idle": "2023-03-09T02:39:09.188839Z",
     "shell.execute_reply": "2023-03-09T02:39:09.187244Z"
    },
    "papermill": {
     "duration": 0.037607,
     "end_time": "2023-03-09T02:39:09.191797",
     "exception": false,
     "start_time": "2023-03-09T02:39:09.154190",
     "status": "completed"
    },
    "tags": []
   },
   "outputs": [],
   "source": [
    "\n",
    "# imputing in missing values for RoomService\n",
    "#titanic_df[ 'RoomService' ].fillna(value = 0, inplace = True)\n",
    "\n",
    "# setting explanatory variable(s) with most correlated x-variable\n",
    "x_train = titanic_df[ ['CryoSleep_True','Spa','RoomService','VRDeck','ShoppingMall','FoodCourt','HomePlanet_Europa','Deck_B','Deck_C','Side_S','Destination_TRAPPIST-1e','Deck_E','Deck_F','Age','VIP_True','Deck_D','HomePlanet_Mars','Deck_G','Deck_T','Destination_PSO J318.5-22'] ][ titanic_df['set'] == 'Training' ]\n",
    "#x_train = titanic_df[ ['CryoSleep_True','Spa','RoomService'] ][ titanic_df['set'] == 'Training' ]\n",
    "\n",
    "# setting response variable\n",
    "y_train = titanic_df[ 'Transported' ][ titanic_df['set']   == 'Training' ]"
   ]
  },
  {
   "cell_type": "code",
   "execution_count": 36,
   "id": "5053d596",
   "metadata": {
    "execution": {
     "iopub.execute_input": "2023-03-09T02:39:09.226314Z",
     "iopub.status.busy": "2023-03-09T02:39:09.225453Z",
     "iopub.status.idle": "2023-03-09T02:39:09.231151Z",
     "shell.execute_reply": "2023-03-09T02:39:09.229485Z"
    },
    "papermill": {
     "duration": 0.026435,
     "end_time": "2023-03-09T02:39:09.234407",
     "exception": false,
     "start_time": "2023-03-09T02:39:09.207972",
     "status": "completed"
    },
    "tags": []
   },
   "outputs": [],
   "source": [
    "# Check for missing values in your training data\n",
    "#print(x_train.isnull().sum())\n",
    "#print(y_train.isnull().sum())"
   ]
  },
  {
   "cell_type": "markdown",
   "id": "41304255",
   "metadata": {
    "papermill": {
     "duration": 0.015796,
     "end_time": "2023-03-09T02:39:09.265326",
     "exception": false,
     "start_time": "2023-03-09T02:39:09.249530",
     "status": "completed"
    },
    "tags": []
   },
   "source": [
    "<hr style=\"height:.9px;border:none;color:#333;background-color:#333;\" /><br>\n",
    "Even though there's already a testing set, it's a good idea to build one on the training data to assess model performance and stability qualities.<br>"
   ]
  },
  {
   "cell_type": "code",
   "execution_count": 37,
   "id": "46d89243",
   "metadata": {
    "execution": {
     "iopub.execute_input": "2023-03-09T02:39:09.300515Z",
     "iopub.status.busy": "2023-03-09T02:39:09.300080Z",
     "iopub.status.idle": "2023-03-09T02:39:09.314302Z",
     "shell.execute_reply": "2023-03-09T02:39:09.313168Z"
    },
    "papermill": {
     "duration": 0.034536,
     "end_time": "2023-03-09T02:39:09.317149",
     "exception": false,
     "start_time": "2023-03-09T02:39:09.282613",
     "status": "completed"
    },
    "tags": []
   },
   "outputs": [],
   "source": [
    "\n",
    "# developing training and validation sets\n",
    "x_train_1, x_train_2, y_train_1, y_train_2 = train_test_split(\n",
    "            x_train,\n",
    "            y_train.astype(dtype = 'int'),\n",
    "            random_state = 123,\n",
    "            test_size    = 0.25,\n",
    "            stratify     = y_train)"
   ]
  },
  {
   "cell_type": "code",
   "execution_count": null,
   "id": "07ed0ee4",
   "metadata": {
    "papermill": {
     "duration": 0.014853,
     "end_time": "2023-03-09T02:39:09.347260",
     "exception": false,
     "start_time": "2023-03-09T02:39:09.332407",
     "status": "completed"
    },
    "tags": []
   },
   "outputs": [],
   "source": []
  },
  {
   "cell_type": "markdown",
   "id": "71feb7ee",
   "metadata": {
    "papermill": {
     "duration": 0.014733,
     "end_time": "2023-03-09T02:39:09.377195",
     "exception": false,
     "start_time": "2023-03-09T02:39:09.362462",
     "status": "completed"
    },
    "tags": []
   },
   "source": [
    "<hr style=\"height:.9px;border:none;color:#333;background-color:#333;\" /><br>\n",
    "Below is a Logistic Regression model using scikit-learn. Note that as you explore additional scikit-learn models, the only things that need to change are the model name and the model type.<br>"
   ]
  },
  {
   "cell_type": "code",
   "execution_count": 38,
   "id": "e5dc4026",
   "metadata": {
    "execution": {
     "iopub.execute_input": "2023-03-09T02:39:09.409391Z",
     "iopub.status.busy": "2023-03-09T02:39:09.408920Z",
     "iopub.status.idle": "2023-03-09T02:39:10.493989Z",
     "shell.execute_reply": "2023-03-09T02:39:10.492258Z"
    },
    "papermill": {
     "duration": 1.106971,
     "end_time": "2023-03-09T02:39:10.499212",
     "exception": false,
     "start_time": "2023-03-09T02:39:09.392241",
     "status": "completed"
    },
    "tags": []
   },
   "outputs": [
    {
     "name": "stdout",
     "output_type": "stream",
     "text": [
      "Training Accuracy:   0.8692\n",
      "Validation Accuracy: 0.8132\n",
      "Training AUC:        0.869\n",
      "Validation AUC:      0.813\n"
     ]
    }
   ],
   "source": [
    "from sklearn.ensemble import HistGradientBoostingClassifier\n",
    "# # picking a model name\n",
    "model_name = \"Histogram Gradient Boosting Classifier\"\n",
    "\n",
    "\n",
    "# # INSTANTIATING a model object - CHANGE THIS AS NEEDED\n",
    "model = HistGradientBoostingClassifier(learning_rate=0.11,\n",
    "                                       max_depth=18,\n",
    "                                       min_samples_leaf=30,\n",
    "                                       max_leaf_nodes=31,\n",
    "                                       loss='auto',\n",
    "                                       max_iter=100,\n",
    "                                       n_iter_no_change=200,\n",
    "                                       max_bins=255,random_state = 219)  \n",
    "\n",
    "#learning_rate': 0.1, 'max_bins': 255, 'max_depth': 18, 'max_iter': 100, 'max_leaf_nodes': 31, 'min_samples_leaf': 30}                                     \n",
    "#loss='auto',learning_rate=0.1, max_iter=100, max_leaf_nodes=31, max_depth=15, min_samples_leaf=20,  max_bins=255, warm_start=False,  scoring='loss', verbose=0, random_state = 219\n",
    "\n",
    "# FITTING to the training data\n",
    "model_fit = model.fit(x_train_1, y_train_1)\n",
    "\n",
    "\n",
    "# PREDICTING on the response variable\n",
    "model_train_pred = model_fit.predict(x_train_1)\n",
    "model_valid_pred = model_fit.predict(x_train_2)\n",
    "\n",
    "\n",
    "# SCORING the results (accuracy)\n",
    "model_train_score = model.score(x_train_1, y_train_1).round(4) # training accuracy\n",
    "model_valid_score = model.score(x_train_2, y_train_2).round(4) # validation accuracy\n",
    "\n",
    "# SCORING the results (auc)\n",
    "model_train_auc = roc_auc_score(y_true  = y_train_1,\n",
    "                                y_score = model_train_pred).round(decimals = 4)\n",
    "\n",
    "model_valid_auc = roc_auc_score(y_true  = y_train_2,\n",
    "                                y_score = model_valid_pred).round(decimals = 4)\n",
    "\n",
    "# displaying results\n",
    "print('Training Accuracy:  ', model_train_score)\n",
    "print('Validation Accuracy:', model_valid_score)\n",
    "print('Training AUC:       ', model_train_auc)\n",
    "print('Validation AUC:     ', model_valid_auc)"
   ]
  },
  {
   "cell_type": "markdown",
   "id": "bb580d08",
   "metadata": {
    "papermill": {
     "duration": 0.018656,
     "end_time": "2023-03-09T02:39:10.538689",
     "exception": false,
     "start_time": "2023-03-09T02:39:10.520033",
     "status": "completed"
    },
    "tags": []
   },
   "source": [
    "<h2>Hyper HistGradientBoostingClassifier</h2>"
   ]
  },
  {
   "cell_type": "code",
   "execution_count": 39,
   "id": "125e13a5",
   "metadata": {
    "execution": {
     "iopub.execute_input": "2023-03-09T02:39:10.573999Z",
     "iopub.status.busy": "2023-03-09T02:39:10.573576Z",
     "iopub.status.idle": "2023-03-09T02:39:10.579809Z",
     "shell.execute_reply": "2023-03-09T02:39:10.578798Z"
    },
    "papermill": {
     "duration": 0.025808,
     "end_time": "2023-03-09T02:39:10.582314",
     "exception": false,
     "start_time": "2023-03-09T02:39:10.556506",
     "status": "completed"
    },
    "tags": []
   },
   "outputs": [],
   "source": [
    "# from sklearn.ensemble import HistGradientBoostingClassifier\n",
    "# from sklearn.model_selection import GridSearchCV\n",
    "# from sklearn.metrics import roc_auc_score\n",
    "\n",
    "# # Define your parameter grid\n",
    "# param_grid = {\n",
    "#     'learning_rate': [0.1, 0.11, 0.12],\n",
    "#     'max_depth': [15, 18, 20],\n",
    "#     'min_samples_leaf': [10, 20, 30],\n",
    "#     'max_leaf_nodes': [31, 40, 50],\n",
    "#     'max_iter': [100, 200, 300],\n",
    "#     'max_bins': [128, 255, 512]\n",
    "# }\n",
    "\n",
    "# # INSTANTIATING a model object\n",
    "# model = HistGradientBoostingClassifier(loss='auto', random_state=219)\n",
    "\n",
    "# # Use GridSearchCV to find the best hyperparameters\n",
    "# grid_search = GridSearchCV(model, param_grid=param_grid, cv=5)\n",
    "# grid_search.fit(x_train_1, y_train_1)\n",
    "\n",
    "# # FITTING to the training data with the best hyperparameters\n",
    "# model_fit = grid_search.best_estimator_.fit(x_train_1, y_train_1)\n",
    "\n",
    "# # PREDICTING on the response variable\n",
    "# model_train_pred = model_fit.predict(x_train_1)\n",
    "# model_valid_pred = model_fit.predict(x_train_2)\n",
    "\n",
    "# # SCORING the results (accuracy)\n",
    "# model_train_score = model_fit.score(x_train_1, y_train_1).round(4) # training accuracy\n",
    "# model_valid_score = model_fit.score(x_train_2, y_train_2).round(4) # validation accuracy\n",
    "\n",
    "# # SCORING the results (auc)\n",
    "# model_train_auc = roc_auc_score(y_true=y_train_1, y_score=model_train_pred).round(decimals=4)\n",
    "# model_valid_auc = roc_auc_score(y_true=y_train_2, y_score=model_valid_pred).round(decimals=4)\n",
    "\n",
    "# # displaying results\n",
    "# print('Training Accuracy:  ', model_train_score)\n",
    "# print('Validation Accuracy:', model_valid_score)\n",
    "# print('Training AUC:       ', model_train_auc)\n",
    "# print('Validation AUC:     ', model_valid_auc)\n",
    "# print(\"Best hyperparameters:\", grid_search.best_params_)\n",
    "# print(\"Best score:\", grid_search.best_score_)"
   ]
  },
  {
   "cell_type": "markdown",
   "id": "83884a4b",
   "metadata": {
    "papermill": {
     "duration": 0.01508,
     "end_time": "2023-03-09T02:39:10.614878",
     "exception": false,
     "start_time": "2023-03-09T02:39:10.599798",
     "status": "completed"
    },
    "tags": []
   },
   "source": [
    "<hr style=\"height:.9px;border:none;color:#333;background-color:#333;\" />\n",
    "<hr style=\"height:.9px;border:none;color:#333;background-color:#333;\" /><br>\n",
    "\n",
    "<h2>Creating and Submitting Predictions</h2>\n",
    "In this competition, your results should be submitted as a .csv file. This file should contain exactly two columns:<br><br>\n",
    "\n",
    "1. Id (from the test set)\n",
    "2. SalePrice (predictions from your model)\n",
    "\n",
    "<br>\n",
    "The following code with do exactly that. Notice that all we need to do is apply the same X-variables (x_data) to the .predict step to generate our predictions."
   ]
  },
  {
   "cell_type": "code",
   "execution_count": 40,
   "id": "d9822f29",
   "metadata": {
    "execution": {
     "iopub.execute_input": "2023-03-09T02:39:10.647919Z",
     "iopub.status.busy": "2023-03-09T02:39:10.647278Z",
     "iopub.status.idle": "2023-03-09T02:39:10.685528Z",
     "shell.execute_reply": "2023-03-09T02:39:10.684224Z"
    },
    "papermill": {
     "duration": 0.058754,
     "end_time": "2023-03-09T02:39:10.689024",
     "exception": false,
     "start_time": "2023-03-09T02:39:10.630270",
     "status": "completed"
    },
    "tags": []
   },
   "outputs": [
    {
     "data": {
      "text/plain": [
       "array([1, 0, 1, ..., 1, 1, 1])"
      ]
     },
     "execution_count": 40,
     "metadata": {},
     "output_type": "execute_result"
    }
   ],
   "source": [
    "# setting x_test\n",
    "x_test  = titanic_df[ ['CryoSleep_True','Spa','RoomService','VRDeck','ShoppingMall','FoodCourt','HomePlanet_Europa','Deck_B','Deck_C','Side_S','Destination_TRAPPIST-1e','Deck_E','Deck_F','Age','VIP_True','Deck_D','HomePlanet_Mars','Deck_G','Deck_T','Destination_PSO J318.5-22']][ titanic_df['set'] == 'Testing' ]\n",
    "\n",
    "# PREDICTING on new data\n",
    "model_pred = model.predict(x_test)\n",
    "\n",
    "# checking results\n",
    "model_pred"
   ]
  },
  {
   "cell_type": "markdown",
   "id": "941e9015",
   "metadata": {
    "papermill": {
     "duration": 0.01602,
     "end_time": "2023-03-09T02:39:10.722309",
     "exception": false,
     "start_time": "2023-03-09T02:39:10.706289",
     "status": "completed"
    },
    "tags": []
   },
   "source": [
    "<hr style=\"height:.9px;border:none;color:#333;background-color:#333;\" /><br>\n",
    "From here, we simply create a DataFrame with the original passenger ids (&nbsp;<em>PassengerId</em>&nbsp;) and the predicted values from the model (&nbsp;<em>Transported</em>&nbsp;).<br>"
   ]
  },
  {
   "cell_type": "code",
   "execution_count": 41,
   "id": "92e555ae",
   "metadata": {
    "execution": {
     "iopub.execute_input": "2023-03-09T02:39:10.758476Z",
     "iopub.status.busy": "2023-03-09T02:39:10.756859Z",
     "iopub.status.idle": "2023-03-09T02:39:10.770761Z",
     "shell.execute_reply": "2023-03-09T02:39:10.769325Z"
    },
    "papermill": {
     "duration": 0.036327,
     "end_time": "2023-03-09T02:39:10.773886",
     "exception": false,
     "start_time": "2023-03-09T02:39:10.737559",
     "status": "completed"
    },
    "tags": []
   },
   "outputs": [
    {
     "data": {
      "text/html": [
       "<div>\n",
       "<style scoped>\n",
       "    .dataframe tbody tr th:only-of-type {\n",
       "        vertical-align: middle;\n",
       "    }\n",
       "\n",
       "    .dataframe tbody tr th {\n",
       "        vertical-align: top;\n",
       "    }\n",
       "\n",
       "    .dataframe thead th {\n",
       "        text-align: right;\n",
       "    }\n",
       "</style>\n",
       "<table border=\"1\" class=\"dataframe\">\n",
       "  <thead>\n",
       "    <tr style=\"text-align: right;\">\n",
       "      <th></th>\n",
       "      <th>PassengerId</th>\n",
       "      <th>Transported</th>\n",
       "    </tr>\n",
       "  </thead>\n",
       "  <tbody>\n",
       "    <tr>\n",
       "      <th>0</th>\n",
       "      <td>0013_01</td>\n",
       "      <td>True</td>\n",
       "    </tr>\n",
       "    <tr>\n",
       "      <th>1</th>\n",
       "      <td>0018_01</td>\n",
       "      <td>False</td>\n",
       "    </tr>\n",
       "    <tr>\n",
       "      <th>2</th>\n",
       "      <td>0019_01</td>\n",
       "      <td>True</td>\n",
       "    </tr>\n",
       "    <tr>\n",
       "      <th>3</th>\n",
       "      <td>0021_01</td>\n",
       "      <td>True</td>\n",
       "    </tr>\n",
       "    <tr>\n",
       "      <th>4</th>\n",
       "      <td>0023_01</td>\n",
       "      <td>True</td>\n",
       "    </tr>\n",
       "  </tbody>\n",
       "</table>\n",
       "</div>"
      ],
      "text/plain": [
       "  PassengerId  Transported\n",
       "0     0013_01         True\n",
       "1     0018_01        False\n",
       "2     0019_01         True\n",
       "3     0021_01         True\n",
       "4     0023_01         True"
      ]
     },
     "execution_count": 41,
     "metadata": {},
     "output_type": "execute_result"
    }
   ],
   "source": [
    "# saving predictions with their respective Ids from the test set\n",
    "predictions = pd.DataFrame(data = { 'PassengerId' : data_test['PassengerId'],\n",
    "                                    'Transported' : model_pred.astype(bool)               } )\n",
    "\n",
    "# checking the results\n",
    "predictions.head(n = 5)"
   ]
  },
  {
   "cell_type": "code",
   "execution_count": 42,
   "id": "8a422fa1",
   "metadata": {
    "execution": {
     "iopub.execute_input": "2023-03-09T02:39:10.809911Z",
     "iopub.status.busy": "2023-03-09T02:39:10.809473Z",
     "iopub.status.idle": "2023-03-09T02:39:10.821725Z",
     "shell.execute_reply": "2023-03-09T02:39:10.820182Z"
    },
    "papermill": {
     "duration": 0.033514,
     "end_time": "2023-03-09T02:39:10.824422",
     "exception": false,
     "start_time": "2023-03-09T02:39:10.790908",
     "status": "completed"
    },
    "tags": []
   },
   "outputs": [
    {
     "data": {
      "text/plain": [
       "True     0.52607\n",
       "False    0.47393\n",
       "Name: Transported, dtype: float64"
      ]
     },
     "execution_count": 42,
     "metadata": {},
     "output_type": "execute_result"
    }
   ],
   "source": [
    "predictions['Transported'].value_counts(normalize=True)"
   ]
  },
  {
   "cell_type": "markdown",
   "id": "0e328bc6",
   "metadata": {
    "papermill": {
     "duration": 0.015938,
     "end_time": "2023-03-09T02:39:10.857166",
     "exception": false,
     "start_time": "2023-03-09T02:39:10.841228",
     "status": "completed"
    },
    "tags": []
   },
   "source": [
    "<hr style=\"height:.9px;border:none;color:#333;background-color:#333;\" /><br>\n",
    "Finally, we save the DataFrame as a .csv file and we're ready to submit. This file will be available in the <em>/kaggle/working</em> directory."
   ]
  },
  {
   "cell_type": "code",
   "execution_count": 43,
   "id": "b212783b",
   "metadata": {
    "execution": {
     "iopub.execute_input": "2023-03-09T02:39:10.892552Z",
     "iopub.status.busy": "2023-03-09T02:39:10.892107Z",
     "iopub.status.idle": "2023-03-09T02:39:10.908581Z",
     "shell.execute_reply": "2023-03-09T02:39:10.906440Z"
    },
    "papermill": {
     "duration": 0.037277,
     "end_time": "2023-03-09T02:39:10.911814",
     "exception": false,
     "start_time": "2023-03-09T02:39:10.874537",
     "status": "completed"
    },
    "tags": []
   },
   "outputs": [],
   "source": [
    "# sending predictions to .csv file\n",
    "predictions.to_csv(path_or_buf = 'HGBclassifier80.csv',\n",
    "                   index = False)"
   ]
  },
  {
   "cell_type": "markdown",
   "id": "39aa68e7",
   "metadata": {
    "papermill": {
     "duration": 0.015529,
     "end_time": "2023-03-09T02:39:10.943449",
     "exception": false,
     "start_time": "2023-03-09T02:39:10.927920",
     "status": "completed"
    },
    "tags": []
   },
   "source": [
    "<br>\n",
    "\n",
    "~~~\n",
    "\n",
    "  _    _                            _____          _ _             _ \n",
    " | |  | |                          / ____|        | (_)           | |\n",
    " | |__| | __ _ _ __  _ __  _   _  | |     ___   __| |_ _ __   __ _| |\n",
    " |  __  |/ _` | '_ \\| '_ \\| | | | | |    / _ \\ / _` | | '_ \\ / _` | |\n",
    " | |  | | (_| | |_) | |_) | |_| | | |___| (_) | (_| | | | | | (_| |_|\n",
    " |_|  |_|\\__,_| .__/| .__/ \\__, |  \\_____\\___/ \\__,_|_|_| |_|\\__, (_)\n",
    "              | |   | |     __/ |                             __/ |  \n",
    "              |_|   |_|    |___/                             |___/   \n",
    "\n",
    "~~~\n"
   ]
  },
  {
   "cell_type": "markdown",
   "id": "deca4d61",
   "metadata": {
    "papermill": {
     "duration": 0.015393,
     "end_time": "2023-03-09T02:39:10.974241",
     "exception": false,
     "start_time": "2023-03-09T02:39:10.958848",
     "status": "completed"
    },
    "tags": []
   },
   "source": [
    "<br>"
   ]
  }
 ],
 "metadata": {
  "kernelspec": {
   "display_name": "Python 3",
   "language": "python",
   "name": "python3"
  },
  "language_info": {
   "codemirror_mode": {
    "name": "ipython",
    "version": 3
   },
   "file_extension": ".py",
   "mimetype": "text/x-python",
   "name": "python",
   "nbconvert_exporter": "python",
   "pygments_lexer": "ipython3",
   "version": "3.7.12"
  },
  "papermill": {
   "default_parameters": {},
   "duration": 18.836685,
   "end_time": "2023-03-09T02:39:11.816154",
   "environment_variables": {},
   "exception": null,
   "input_path": "__notebook__.ipynb",
   "output_path": "__notebook__.ipynb",
   "parameters": {},
   "start_time": "2023-03-09T02:38:52.979469",
   "version": "2.4.0"
  }
 },
 "nbformat": 4,
 "nbformat_minor": 5
}
